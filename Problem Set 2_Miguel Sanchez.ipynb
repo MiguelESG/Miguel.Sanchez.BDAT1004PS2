{
 "cells": [
  {
   "cell_type": "markdown",
   "id": "e4eedcca",
   "metadata": {},
   "source": [
    "# Data Programming - Problem Set 2\n",
    "Miguel Sanchez"
   ]
  },
  {
   "cell_type": "markdown",
   "id": "7466eea4",
   "metadata": {},
   "source": [
    "## Question 1\n",
    "Consider the following Python module:\n",
    "<p></p>\n",
    "a=0\n",
    "<p></p>\n",
    "def b():\n",
    "<p></p>\n",
    "    global a\n",
    "    <p></p>\n",
    "a = c(a)\n",
    "<p></p>\n",
    "def c(a):\n",
    "<p></p>\n",
    "    return a + 2\n",
    "    <p></p>\n",
    "After importing the module into the interpreter, you execute:\n",
    "<p></p>\n",
    "'>>> b()\n",
    "<p></p>\n",
    "'>>> b()\n",
    "<p></p>\n",
    "'>>> b()\n",
    "<p></p>\n",
    "'>>> a\n",
    "<p></p>\n",
    "?\n",
    "<p></p>\n",
    "What value is displayed when the last expression (a) is evaluated? Explain your answer by indicating what happens in every executed statement."
   ]
  },
  {
   "cell_type": "code",
   "execution_count": 1,
   "id": "ded2c710",
   "metadata": {},
   "outputs": [
    {
     "data": {
      "text/plain": [
       "6"
      ]
     },
     "execution_count": 1,
     "metadata": {},
     "output_type": "execute_result"
    }
   ],
   "source": [
    "a=0  #(1)\n",
    "\n",
    "def b():\n",
    "    global a #(3)\n",
    "    a = c(a)\n",
    "def c(a):\n",
    "    return a + 2\n",
    "\n",
    "b() #(2)\n",
    "b()\n",
    "b()\n",
    "a\n",
    "\n",
    "#(1)first of all, a 0 is assigned to the global variable a\n",
    "#(2)then, the b() function is called by the first time\n",
    "#(3) 'global a' is used inside the function so all references to that variable inside b() are to the global a\n",
    "\n"
   ]
  },
  {
   "cell_type": "markdown",
   "id": "a4495c5c",
   "metadata": {},
   "source": [
    "## Question 2\n",
    "<p></p>\n",
    "Function fileLength(), given to you, takes the name of a file as input and returns the length of the file:\n",
    "<p></p>\n",
    "'>>> fileLength('midterm.py')\n",
    "<p></p>\n",
    "284\n",
    "<p></p>\n",
    "'>>> fileLength('idterm.py')\n",
    "<p></p>\n",
    "Traceback (most recent call last):\n",
    "<p></p>\n",
    "  File \"<pyshell#34>\", line 1, in module>\n",
    "  <p></p>\n",
    "    fileLength('idterm.py')\n",
    "    <p></p>\n",
    "  File \"/Users/me/midterm.py\", line 3, in fileLength\n",
    "  <p></p>\n",
    "    infile = open(filename)\n",
    "    <p></p>\n",
    "FileNotFoundError: [Errno 2] No such file or directory:\n",
    "<p></p>\n",
    "'idterm.py'\n",
    "<p></p>\n",
    "As shown above, if the file cannot be found by the interpreter or if it cannot be read as a text file, an exception will be raised. Modify function fileLength() so that a friendly message is printed instead:\n",
    "<p></p>\n",
    "'>>> fileLength('midterm.py')\n",
    "<p></p>\n",
    "358\n",
    "<p></p>\n",
    "'>>> fileLength('idterm.py')\n",
    "<p></p>\n",
    "File idterm.py not found."
   ]
  },
  {
   "cell_type": "code",
   "execution_count": 2,
   "id": "145d7349",
   "metadata": {},
   "outputs": [
    {
     "name": "stdout",
     "output_type": "stream",
     "text": [
      "File  idterm.py  not found.\n"
     ]
    }
   ],
   "source": [
    "def fileLength(file_name):\n",
    "    try:\n",
    "        file = open(file_name)\n",
    "        contents = file.read()\n",
    "        file.close()\n",
    "        print(len(contents))\n",
    "    except:\n",
    "        print('File ',file_name,' not found.')\n",
    "    \n",
    "fileLength('idterm.py')"
   ]
  },
  {
   "cell_type": "markdown",
   "id": "4488d74c",
   "metadata": {},
   "source": [
    "## Question 3\n",
    "Write a class named Marsupial that can be used as shown below:\n",
    "<p></p>\n",
    "'>>> m = Marsupial()\n",
    "<p></p>\n",
    "'>>> m.put_in_pouch('doll')\n",
    "<p></p>\n",
    "'>>> m.put_in_pouch('firetruck')\n",
    "<p></p>\n",
    "'>>> m.put_in_pouch('kitten')\n",
    "<p></p>\n",
    "'>>> m.pouch_contents()\n",
    "<p></p>\n",
    "['doll', 'firetruck', 'kitten']\n",
    "<p></p>\n",
    "Now write a class named Kangaroo as a subclass of Marsupial that inherits all the attributes of Marsupial and also:\n",
    "<p></p>\n",
    "a) extends the Marsupial __init__ constructor to take, as input, the coordinates x and y of the Kangaroo object,\n",
    "<p></p>\n",
    "b) supports method jump that takes number values dx and dy as input and moves the kangaroo by dx units along the x-axis and by dy units along the y- axis, and\n",
    "<p></p>\n",
    "c) overloads the __str__ operator so it behaves as shown below.\n",
    "<p></p>\n",
    "'>>> k = Kangaroo(0,0)\n",
    "<p></p>\n",
    "'>>> print(k)\n",
    "<p></p>\n",
    "I am a Kangaroo located at coordinates (0,0)\n",
    "<p></p>\n",
    "'>>> k.put_in_pouch('doll')\n",
    "<p></p>\n",
    "'>>> k.put_in_pouch('firetruck')\n",
    "<p></p>\n",
    "'>>> k.put_in_pouch('kitten')\n",
    "<p></p>\n",
    "'>>> k.pouch_contents()\n",
    "<p></p>\n",
    "['doll', 'firetruck', 'kitten']\n",
    "<p></p>\n",
    "'>>> k.jump(1,0)\n",
    "<p></p>\n",
    "'>>> k.jump(1,0)\n",
    "<p></p>\n",
    "'>>> k.jump(1,0)\n",
    "<p></p>\n",
    "'>>> print(k)\n",
    "<p></p>\n",
    "I am a Kangaroo located at coordinates (3,0)"
   ]
  },
  {
   "cell_type": "code",
   "execution_count": 3,
   "id": "4c6562c1",
   "metadata": {},
   "outputs": [],
   "source": [
    "class Marsupial:\n",
    "    def __init__(self):\n",
    "        self.mar=[]\n",
    "    def put_in_pouch(self,name):\n",
    "        self.mar.append(name)\n",
    "    def pouch_contents(self):\n",
    "        return print(self.mar)\n",
    "    #Agregar lo del string\n",
    "    \n",
    "    \n",
    "\n",
    "class Kangaroo (Marsupial):\n",
    "    def __init__(self,xcor,ycor):\n",
    "        self.mar=[]\n",
    "        self.x=xcor\n",
    "        self.y=ycor\n",
    "    def jump(self,dx,dy):\n",
    "        self.x+=dx\n",
    "        self.y+=dy\n",
    "    def __str__(self):\n",
    "        return 'I am a Kangaroo located at coordinates ({},{})'.format(self.x,self.y)"
   ]
  },
  {
   "cell_type": "code",
   "execution_count": 4,
   "id": "01b27ad4",
   "metadata": {},
   "outputs": [
    {
     "name": "stdout",
     "output_type": "stream",
     "text": [
      "['doll', 'firetruck', 'kitten']\n",
      "I am a Kangaroo located at coordinates (0,0)\n",
      "['doll', 'firetruck', 'kitten']\n",
      "I am a Kangaroo located at coordinates (3,0)\n"
     ]
    }
   ],
   "source": [
    "m=Marsupial()\n",
    "m.put_in_pouch('doll')\n",
    "m.put_in_pouch('firetruck')\n",
    "m.put_in_pouch('kitten')\n",
    "m.pouch_contents()\n",
    "\n",
    "k = Kangaroo(0,0)\n",
    "print(k)\n",
    "k.put_in_pouch('doll')\n",
    "k.put_in_pouch('firetruck')\n",
    "k.put_in_pouch('kitten')\n",
    "k.pouch_contents()\n",
    "k.jump(1,0)\n",
    "k.jump(1,0)\n",
    "k.jump(1,0)\n",
    "print(k)"
   ]
  },
  {
   "cell_type": "markdown",
   "id": "75a18c22",
   "metadata": {},
   "source": [
    "## Question 4\n",
    "Write function collatz() that takes a positive integer x as input and prints the Collatz sequence starting at x. A Collatz sequence is obtained by repeatedly applying this rule to the previous number x in the sequence:\n",
    "<p></p>\n",
    "x={ 𝑥/2 𝑖𝑓 𝑥 𝑖𝑠 𝑒𝑣𝑒𝑛 \n",
    "<p></p>\n",
    "x={ 3𝑥 + 1 𝑖𝑓 𝑥 𝑖𝑠 𝑜𝑑𝑑\n",
    "  <p></p>\n",
    "Your function should stop when the sequence gets to number 1. Your implementation must be recursive, without any loops.\n",
    "<p></p>\n",
    "'>>> collatz(1)\n",
    "<p></p>\n",
    "1\n",
    "<p></p>\n",
    "'>>> collatz(10)\n",
    "<p></p>\n",
    "10\n",
    "<p></p>\n",
    "5 \n",
    "<p></p>\n",
    "16\n",
    "<p></p>\n",
    "8 \n",
    "<p></p>\n",
    "4 \n",
    "<p></p>\n",
    "2 \n",
    "<p></p>\n",
    "1"
   ]
  },
  {
   "cell_type": "code",
   "execution_count": 5,
   "id": "75c1a591",
   "metadata": {},
   "outputs": [
    {
     "name": "stdout",
     "output_type": "stream",
     "text": [
      "1\n",
      "10\n",
      "5\n",
      "16\n",
      "8\n",
      "4\n",
      "2\n",
      "1\n"
     ]
    }
   ],
   "source": [
    "def collatz(num):\n",
    "    if num ==1:\n",
    "        print (num)\n",
    "    elif num%2 == 0:\n",
    "        print(num)\n",
    "        num//=2;\n",
    "        collatz(num)\n",
    "    else:\n",
    "        print (num)\n",
    "        num=3*num+1\n",
    "        collatz(num)\n",
    "        \n",
    "collatz(1)  \n",
    "collatz(10)"
   ]
  },
  {
   "cell_type": "markdown",
   "id": "5c99630e",
   "metadata": {},
   "source": [
    "## Question 5\n",
    "Write a recursive method binary() that takes a non-negative integer n and prints the binary representation of integer n.\n",
    "<p></p>\n",
    "'>>> binary(0)\n",
    "<p></p>\n",
    "0\n",
    "<p></p>\n",
    "'>>> binary(1)\n",
    "<p></p>\n",
    "1\n",
    "<p></p>\n",
    "'>>> binary(3)\n",
    "<p></p>\n",
    "11\n",
    "<p></p>\n",
    "'>>> binary(9)\n",
    "<p></p>\n",
    "1001"
   ]
  },
  {
   "cell_type": "code",
   "execution_count": 6,
   "id": "4081aa31",
   "metadata": {},
   "outputs": [
    {
     "name": "stdout",
     "output_type": "stream",
     "text": [
      "\n",
      "0\n",
      "1\n",
      "11\n",
      "1001"
     ]
    }
   ],
   "source": [
    "def binary(num):\n",
    "    if num ==0 or num==1:\n",
    "        print()\n",
    "        print(num,end='')\n",
    "    else:\n",
    "        binary (num//2)\n",
    "        print(num%2,end='')\n",
    "        \n",
    "binary(0)\n",
    "binary(1)\n",
    "binary(3)\n",
    "binary(9)"
   ]
  },
  {
   "cell_type": "markdown",
   "id": "507f047a",
   "metadata": {},
   "source": [
    "## Question 6\n",
    "Implement a class named HeadingParser that can be used to parse an HTML document, and retrieve and print all the headings in the document. You should implement your class as a subclass of HTMLParser, defined in Standard Library module html.parser. When fed a string containing HTML code, your class should print the headings, one per line and in the order in which they appear in the document. Each heading should be indented as follows: an h1 heading should indentation 0, and h2 heading should have indentation 1, etc. Test your implementation using w3c.html.\n",
    "<p></p>\n",
    "'>>> infile = open('w3c.html')\n",
    "<p></p>\n",
    "'>>> content = infile.read()\n",
    "<p></p>\n",
    "'>>> infile.close()\n",
    "<p></p>\n",
    "'>>> hp = HeadingParser()\n",
    "<p></p>\n",
    "'>>> hp.feed(content)\n",
    "<p></p>\n",
    "W3C Mission\n",
    "<p></p>\n",
    "Principles "
   ]
  },
  {
   "cell_type": "code",
   "execution_count": 7,
   "id": "62fbd3b9",
   "metadata": {},
   "outputs": [],
   "source": [
    "from html.parser import HTMLParser\n",
    "\n",
    "class HeadingParser(HTMLParser):\n",
    "    def handle_data(self, data):\n",
    "        heading=str(self.get_starttag_text())\n",
    "        if 'h' in heading and len(heading)==4 and \"\\n\" not in data:\n",
    "            print ((int(heading[2])-1)*' ',data)   "
   ]
  },
  {
   "cell_type": "code",
   "execution_count": 8,
   "id": "5078b424",
   "metadata": {},
   "outputs": [
    {
     "name": "stdout",
     "output_type": "stream",
     "text": [
      " W3C Mission\n",
      "  Principles\n"
     ]
    }
   ],
   "source": [
    "from html.parser import HTMLParser\n",
    "\n",
    "infile = open('w3c.html')\n",
    "content = infile.read()\n",
    "infile.close()\n",
    "hp = HeadingParser()\n",
    "hp.feed(content)"
   ]
  },
  {
   "cell_type": "markdown",
   "id": "fe848848",
   "metadata": {},
   "source": [
    "## Question 7\n",
    "Implement recursive function webdir() that takes as input: a URL (as a string) and non-negative integers depth and indent. Your function should visit every web page reachable from the starting URL web page in depth clicks or less, and print each web page's URL. As shown below, indentation, specified by indent, should be used to indicate the depth of a URL.\n",
    "<p></p>\n",
    "'>>> webdir('http://reed.cs.depaul.edu/lperkovic/csc242/test1.html', 2, 0)\n",
    "<p></p>\n",
    "http://reed.cs.depaul.edu/lperkovic/csc242/test1.html\n",
    "<p></p>\n",
    "     <p></p>http://reed.cs.depaul.edu/lperkovic/csc242/test2.html\n",
    "    <p></p>\n",
    "         http://reed.cs.depaul.edu/lperkovic/csc242/test4.html\n",
    "        <p></p>\n",
    "    http://reed.cs.depaul.edu/lperkovic/csc242/test3.html\n",
    "    <p></p>\n",
    "        http://reed.cs.depaul.edu/lperkovic/csc242/test4.html"
   ]
  },
  {
   "cell_type": "code",
   "execution_count": 3,
   "id": "0437b474",
   "metadata": {},
   "outputs": [],
   "source": [
    "from urllib.parse import urljoin\n",
    "from html.parser import HTMLParser\n",
    "class Collector(HTMLParser):\n",
    "    'collects hyperlink URLs into a list'\n",
    "\n",
    "    def __init__(self, url):\n",
    "        'initializes parser, the url, and a list'\n",
    "        HTMLParser.__init__(self)\n",
    "        self.url = url\n",
    "        self.links = []\n",
    "\n",
    "    \n",
    "    def handle_starttag(self, tag, attrs):\n",
    "        'collects hyperlink URLs in their absolute format'\n",
    "        if tag == 'a':\n",
    "            for attr in attrs:\n",
    "                if attr[0] == 'href':\n",
    "                    # construct absolute URL\n",
    "                    absolute = urljoin(self.url, attr[1])\n",
    "                    if absolute[:4] == 'http': # collect HTTP URLs\n",
    "                        self.links.append(absolute)\n",
    "                        \n",
    "    def getLinks(self):\n",
    "        'returns hyperlinks URLs in their absolute format'\n",
    "        return self.links"
   ]
  },
  {
   "cell_type": "code",
   "execution_count": 17,
   "id": "1e9eaad7",
   "metadata": {},
   "outputs": [],
   "source": [
    "from urllib.request import urlopen\n",
    "from urllib.parse import urljoin\n",
    "\n",
    "from html.parser import HTMLParser\n",
    "\n",
    "def webdir(url,depth,indent):\n",
    "    content = urlopen(url).read().decode()\n",
    "    collector = Collector(url)\n",
    "    collector.feed(content)\n",
    "    urls = collector.getLinks() \n",
    "    #print(urls)\n",
    "    \n",
    "    count=0\n",
    "    if depth == 0:\n",
    "        for ur in urls:\n",
    "            print('  ',ur)\n",
    "    else:\n",
    "        for ur in urls:\n",
    "            print(' '*indent,ur)\n",
    "            try: \n",
    "                webdir(ur,(depth-1),(indent+1))\n",
    "            except:\n",
    "                pass\n"
   ]
  },
  {
   "cell_type": "code",
   "execution_count": 18,
   "id": "eaca1e88",
   "metadata": {},
   "outputs": [
    {
     "name": "stdout",
     "output_type": "stream",
     "text": [
      " http://reed.cs.depaul.edu/lperkovic/csc242/lecture9/Ch11.pptx\n",
      " http://reed.cs.depaul.edu/lperkovic/csc242/lecture9/ch11.py\n",
      " http://reed.cs.depaul.edu/lperkovic/csc242/lecture9/frankenstein.txt\n",
      " http://reed.cs.depaul.edu/lperkovic/csc242/lecture9/five.html\n",
      "  http://reed.cs.depaul.edu/lperkovic/csc242/lecture9/four.html\n",
      "   http://reed.cs.depaul.edu/lperkovic/csc242/lecture9/five.html\n",
      "  http://reed.cs.depaul.edu/lperkovic/csc242/lecture9/one.html\n",
      "   http://reed.cs.depaul.edu/lperkovic/csc242/lecture9/two.html\n",
      "   http://reed.cs.depaul.edu/lperkovic/csc242/lecture9/three.html\n",
      "  http://reed.cs.depaul.edu/lperkovic/csc242/lecture9/two.html\n",
      "   http://reed.cs.depaul.edu/lperkovic/csc242/lecture9/four.html\n",
      " http://reed.cs.depaul.edu/lperkovic/csc242/lecture9/four.html\n",
      "  http://reed.cs.depaul.edu/lperkovic/csc242/lecture9/five.html\n",
      "   http://reed.cs.depaul.edu/lperkovic/csc242/lecture9/four.html\n",
      "   http://reed.cs.depaul.edu/lperkovic/csc242/lecture9/one.html\n",
      "   http://reed.cs.depaul.edu/lperkovic/csc242/lecture9/two.html\n",
      " http://reed.cs.depaul.edu/lperkovic/csc242/lecture9/three.html\n",
      "  http://reed.cs.depaul.edu/lperkovic/csc242/lecture9/four.html\n",
      "   http://reed.cs.depaul.edu/lperkovic/csc242/lecture9/five.html\n",
      " http://reed.cs.depaul.edu/lperkovic/csc242/lecture9/links.html\n",
      "  http://www.google.com\n",
      "  http://reed.cs.depaul.edu/lperkovic/csc242/lecture9/test.html\n",
      " http://reed.cs.depaul.edu/lperkovic/csc242/lecture9/one.html\n",
      "  http://reed.cs.depaul.edu/lperkovic/csc242/lecture9/two.html\n",
      "   http://reed.cs.depaul.edu/lperkovic/csc242/lecture9/four.html\n",
      "  http://reed.cs.depaul.edu/lperkovic/csc242/lecture9/three.html\n",
      "   http://reed.cs.depaul.edu/lperkovic/csc242/lecture9/four.html\n",
      " http://reed.cs.depaul.edu/lperkovic/csc242/lecture9/test.html\n",
      " http://reed.cs.depaul.edu/lperkovic/csc242/lecture9/two.html\n",
      "  http://reed.cs.depaul.edu/lperkovic/csc242/lecture9/four.html\n",
      "   http://reed.cs.depaul.edu/lperkovic/csc242/lecture9/five.html\n",
      " http://reed.cs.depaul.edu/lperkovic/csc242/lecture9/w3c.html\n",
      "  http://www.w3.org/Consortium/mission.html\n",
      "   http://www.w3.org/Consortium/mission.html#main\n",
      "   https://github.com/w3c/w3c-website\n",
      "   https://www.w3.org/ja/\n",
      "   https://www.w3.org/zh-hans/\n",
      "   https://www.w3.org/\n",
      "   https://www.w3.org/standards/\n",
      "   https://www.w3.org/standards/\n",
      "   https://www.w3.org/standards/about/\n",
      "   https://www.w3.org/TR/\n",
      "   https://www.w3.org/standards/types/\n",
      "   https://www.w3.org/translations/\n",
      "   https://www.w3.org/standards/review/\n",
      "   https://www.w3.org/liaisons/\n",
      "   https://www.w3.org/get-involved/promote/\n",
      "   https://www.w3.org/groups/\n",
      "   https://www.w3.org/groups/\n",
      "   https://www.w3.org/groups/wg/\n",
      "   https://www.w3.org/groups/ig/\n",
      "   https://www.w3.org/groups/cg/\n",
      "   https://www.w3.org/groups/bg/\n",
      "   https://www.w3.org/groups/other/tag/\n",
      "   https://www.w3.org/invited-experts/\n",
      "   https://www.w3.org/guide/\n",
      "   https://www.w3.org/about/positive-work-environment/\n",
      "   https://www.w3.org/get-involved/\n",
      "   https://www.w3.org/get-involved/\n",
      "   https://www.w3.org/ecosystems/\n",
      "   https://www.w3.org/membership/\n",
      "   https://www.w3.org/Member/\n",
      "   https://www.w3.org/email/\n",
      "   https://www.w3.org/donate/\n",
      "   https://www.w3.org/sponsor/\n",
      "   https://www.w3.org/resources/\n",
      "   https://www.w3.org/resources/\n",
      "   https://www.w3.org/developers/\n",
      "   https://www.w3.org/developers/tools/\n",
      "   https://www.w3.org/WAI/fundamentals/\n",
      "   https://www.w3.org/International/i18n-drafts/nav/about\n",
      "   https://www.w3.org/translations/\n",
      "   https://www.w3.org/Consortium/cepc/\n",
      "   https://www.w3.org/news-events/\n",
      "   https://www.w3.org/news-events/\n",
      "   https://www.w3.org/news/\n",
      "   https://www.w3.org/blog/\n",
      "   https://www.w3.org/press-releases/\n",
      "   https://www.w3.org/about/press-media/\n",
      "   https://www.w3.org/events/\n",
      "   https://www.w3.org/Consortium/cepc/\n",
      "   https://www.w3.org/about/\n",
      "   https://www.w3.org/about/\n",
      "   https://www.w3.org/mission/\n",
      "   https://www.w3.org/about/leadership/\n",
      "   https://www.w3.org/staff/\n",
      "   https://www.w3.org/evangelists/\n",
      "   https://www.w3.org/careers/\n",
      "   https://www.w3.org/sponsor/\n",
      "   https://www.w3.org/about/press-media/\n",
      "   https://www.w3.org/contact/\n",
      "   https://www.w3.org/about/positive-work-environment/\n",
      "   https://www.w3.org/policies/\n",
      "   https://www.w3.org/help/\n",
      "   https://duckduckgo.com/?q=site%3Aw3.org&ia=web\n",
      "   http://www.w3.org/users/myprofile/\n",
      "   http://www.w3.org/\n",
      "   http://www.w3.org/mission/\n",
      "   http://www.w3.org/mission/accessibility/\n",
      "   http://www.w3.org/mission/internationalization/\n",
      "   http://www.w3.org/mission/security/\n",
      "   http://www.w3.org/mission/privacy/\n",
      "   http://www.w3.org/ecosystems/\n",
      "   http://www.w3.org/about/\n",
      "   http://www.w3.org/about/history/\n",
      "   http://www.w3.org/standards/about/\n",
      "   http://www.w3.org/get-involved/\n",
      "   https://www.w3.org/\n",
      "   https://www.w3.org/contact/\n",
      "   https://www.w3.org/help/\n",
      "   https://www.w3.org/sponsor/\n",
      "   https://www.w3.org/donate/\n",
      "   https://www.w3.org/policies/privacy/\n",
      "   https://www.w3.org/policies/\n",
      "   https://status.w3.org/\n",
      "   https://w3c.social/@w3c\n",
      "   https://twitter.com/W3C\n",
      "   https://github.com/w3c/\n",
      "   https://www.w3.org/\n",
      "   https://www.w3.org/policies/#disclaimers\n",
      "   https://www.w3.org/policies/#trademarks\n",
      "   https://www.w3.org/copyright/document-license/\n"
     ]
    }
   ],
   "source": [
    "webdir('http://reed.cs.depaul.edu/lperkovic/csc242/lecture9/', 2, 0)"
   ]
  },
  {
   "cell_type": "markdown",
   "id": "2f628243",
   "metadata": {},
   "source": [
    "## Question 8\n",
    "<p></p>\n",
    "Write SQL queries on the below database table that return:\n",
    "<p></p>\n",
    "a) All the temperature data.\n",
    "<p></p>\n",
    "b) All the cities, but without repetition.\n",
    "<p></p>\n",
    "c) All the records for India.\n",
    "<p></p>\n",
    "d) All the Fall records.\n",
    "<p></p>\n",
    "e) The city, country, and season for which the average rainfall is between 200 and 400 millimeters.\n",
    "<p></p>\n",
    "f) The city and country for which the average Fall temperature is above 20 degrees, in increasing temperature order.\n",
    "<p></p>\n",
    "g) The total annual rainfall for Cairo.\n",
    "<p></p>\n",
    "h) The total rainfall for each season."
   ]
  },
  {
   "cell_type": "code",
   "execution_count": 1,
   "id": "f763c4ff",
   "metadata": {},
   "outputs": [
    {
     "name": "stdout",
     "output_type": "stream",
     "text": [
      "Requirement already satisfied: ipython-sql in /Users/miguelsanchez/anaconda3/lib/python3.10/site-packages (0.5.0)\n",
      "Requirement already satisfied: ipython in /Users/miguelsanchez/anaconda3/lib/python3.10/site-packages (from ipython-sql) (8.10.0)\n",
      "Requirement already satisfied: prettytable in /Users/miguelsanchez/anaconda3/lib/python3.10/site-packages (from ipython-sql) (3.8.0)\n",
      "Requirement already satisfied: ipython-genutils in /Users/miguelsanchez/anaconda3/lib/python3.10/site-packages (from ipython-sql) (0.2.0)\n",
      "Requirement already satisfied: sqlparse in /Users/miguelsanchez/anaconda3/lib/python3.10/site-packages (from ipython-sql) (0.4.4)\n",
      "Requirement already satisfied: sqlalchemy>=2.0 in /Users/miguelsanchez/anaconda3/lib/python3.10/site-packages (from ipython-sql) (2.0.16)\n",
      "Requirement already satisfied: six in /Users/miguelsanchez/anaconda3/lib/python3.10/site-packages (from ipython-sql) (1.16.0)\n",
      "Requirement already satisfied: typing-extensions>=4.2.0 in /Users/miguelsanchez/anaconda3/lib/python3.10/site-packages (from sqlalchemy>=2.0->ipython-sql) (4.4.0)\n",
      "Requirement already satisfied: greenlet!=0.4.17 in /Users/miguelsanchez/anaconda3/lib/python3.10/site-packages (from sqlalchemy>=2.0->ipython-sql) (2.0.1)\n",
      "Requirement already satisfied: jedi>=0.16 in /Users/miguelsanchez/anaconda3/lib/python3.10/site-packages (from ipython->ipython-sql) (0.18.1)\n",
      "Requirement already satisfied: stack-data in /Users/miguelsanchez/anaconda3/lib/python3.10/site-packages (from ipython->ipython-sql) (0.2.0)\n",
      "Requirement already satisfied: pexpect>4.3 in /Users/miguelsanchez/anaconda3/lib/python3.10/site-packages (from ipython->ipython-sql) (4.8.0)\n",
      "Requirement already satisfied: prompt-toolkit<3.1.0,>=3.0.30 in /Users/miguelsanchez/anaconda3/lib/python3.10/site-packages (from ipython->ipython-sql) (3.0.36)\n",
      "Requirement already satisfied: traitlets>=5 in /Users/miguelsanchez/anaconda3/lib/python3.10/site-packages (from ipython->ipython-sql) (5.7.1)\n",
      "Requirement already satisfied: pickleshare in /Users/miguelsanchez/anaconda3/lib/python3.10/site-packages (from ipython->ipython-sql) (0.7.5)\n",
      "Requirement already satisfied: appnope in /Users/miguelsanchez/anaconda3/lib/python3.10/site-packages (from ipython->ipython-sql) (0.1.2)\n",
      "Requirement already satisfied: backcall in /Users/miguelsanchez/anaconda3/lib/python3.10/site-packages (from ipython->ipython-sql) (0.2.0)\n",
      "Requirement already satisfied: pygments>=2.4.0 in /Users/miguelsanchez/anaconda3/lib/python3.10/site-packages (from ipython->ipython-sql) (2.11.2)\n",
      "Requirement already satisfied: matplotlib-inline in /Users/miguelsanchez/anaconda3/lib/python3.10/site-packages (from ipython->ipython-sql) (0.1.6)\n",
      "Requirement already satisfied: decorator in /Users/miguelsanchez/anaconda3/lib/python3.10/site-packages (from ipython->ipython-sql) (5.1.1)\n",
      "Requirement already satisfied: wcwidth in /Users/miguelsanchez/anaconda3/lib/python3.10/site-packages (from prettytable->ipython-sql) (0.2.5)\n",
      "Requirement already satisfied: parso<0.9.0,>=0.8.0 in /Users/miguelsanchez/anaconda3/lib/python3.10/site-packages (from jedi>=0.16->ipython->ipython-sql) (0.8.3)\n",
      "Requirement already satisfied: ptyprocess>=0.5 in /Users/miguelsanchez/anaconda3/lib/python3.10/site-packages (from pexpect>4.3->ipython->ipython-sql) (0.7.0)\n",
      "Requirement already satisfied: executing in /Users/miguelsanchez/anaconda3/lib/python3.10/site-packages (from stack-data->ipython->ipython-sql) (0.8.3)\n",
      "Requirement already satisfied: asttokens in /Users/miguelsanchez/anaconda3/lib/python3.10/site-packages (from stack-data->ipython->ipython-sql) (2.0.5)\n",
      "Requirement already satisfied: pure-eval in /Users/miguelsanchez/anaconda3/lib/python3.10/site-packages (from stack-data->ipython->ipython-sql) (0.2.2)\n",
      "Note: you may need to restart the kernel to use updated packages.\n"
     ]
    }
   ],
   "source": [
    "pip install ipython-sql"
   ]
  },
  {
   "cell_type": "code",
   "execution_count": 35,
   "id": "11fde3d6",
   "metadata": {},
   "outputs": [],
   "source": [
    "import sqlite3\n",
    "con = sqlite3.connect('cities_seasons.db')\n",
    "cur = con.cursor()\n",
    "cur.execute(\"CREATE TABLE Cities (City text, Country text, Season text, Temperature float, Rainfall float)\")\n",
    "cur.execute(\"INSERT INTO Cities VALUES ('Mumbai', 'India', 'Winter',24.8,5.9)\")\n",
    "cur.execute(\"INSERT INTO Cities VALUES ('Mumbai', 'India', 'Spring',28.4,16.2)\")\n",
    "cur.execute(\"INSERT INTO Cities VALUES ('Mumbai', 'India', 'Summer',27.9,1549.4)\")\n",
    "cur.execute(\"INSERT INTO Cities VALUES ('Mumbai', 'India', 'Fall',27.6,346.0)\")\n",
    "cur.execute(\"INSERT INTO Cities VALUES ('London', 'United Kingdom', 'Winter',4.2,207.7)\")\n",
    "cur.execute(\"INSERT INTO Cities VALUES ('London', 'United Kingdom', 'Spring',8.3,169.6)\")\n",
    "cur.execute(\"INSERT INTO Cities VALUES ('London', 'United Kingdom', 'Summer',15.7,157.0)\")\n",
    "cur.execute(\"INSERT INTO Cities VALUES ('London', 'United Kingdom', 'Fall',10.4,218.5)\")\n",
    "cur.execute(\"INSERT INTO Cities VALUES ('Cairo', 'Egypt', 'Winter',13.6,16.5)\")\n",
    "cur.execute(\"INSERT INTO Cities VALUES ('Cairo', 'Egypt', 'Spring',20.7,6.5)\")\n",
    "cur.execute(\"INSERT INTO Cities VALUES ('Cairo', 'Egypt', 'Summer',27.7,0.1)\")\n",
    "cur.execute(\"INSERT INTO Cities VALUES ('Cairo', 'Egypt', 'Fall',22.2,4.5)\")\n",
    "con.commit()\n",
    "con.close()"
   ]
  },
  {
   "cell_type": "code",
   "execution_count": 36,
   "id": "70575f4c",
   "metadata": {},
   "outputs": [
    {
     "data": {
      "text/plain": [
       "[(24.8,),\n",
       " (28.4,),\n",
       " (27.9,),\n",
       " (27.6,),\n",
       " (4.2,),\n",
       " (8.3,),\n",
       " (15.7,),\n",
       " (10.4,),\n",
       " (13.6,),\n",
       " (20.7,),\n",
       " (27.7,),\n",
       " (22.2,)]"
      ]
     },
     "execution_count": 36,
     "metadata": {},
     "output_type": "execute_result"
    }
   ],
   "source": [
    "#a) All the temperature data.\n",
    "con = sqlite3.connect('cities_seasons.db')\n",
    "cur = con.cursor()\n",
    "cur.execute(\"SELECT Temperature FROM Cities\")\n",
    "cur.fetchall()"
   ]
  },
  {
   "cell_type": "code",
   "execution_count": 37,
   "id": "2ecad096",
   "metadata": {},
   "outputs": [
    {
     "data": {
      "text/plain": [
       "[('Mumbai',), ('London',), ('Cairo',)]"
      ]
     },
     "execution_count": 37,
     "metadata": {},
     "output_type": "execute_result"
    }
   ],
   "source": [
    "#b) All the cities, but without repetition.\n",
    "con = sqlite3.connect('cities_seasons.db')\n",
    "cur = con.cursor()\n",
    "cur.execute(\"SELECT Distinct City FROM Cities\")\n",
    "cur.fetchall()"
   ]
  },
  {
   "cell_type": "code",
   "execution_count": 40,
   "id": "2807b74b",
   "metadata": {},
   "outputs": [
    {
     "data": {
      "text/plain": [
       "[('Mumbai', 'India', 'Winter', 24.8, 5.9),\n",
       " ('Mumbai', 'India', 'Spring', 28.4, 16.2),\n",
       " ('Mumbai', 'India', 'Summer', 27.9, 1549.4),\n",
       " ('Mumbai', 'India', 'Fall', 27.6, 346.0)]"
      ]
     },
     "execution_count": 40,
     "metadata": {},
     "output_type": "execute_result"
    }
   ],
   "source": [
    "#c) All the records for India.\n",
    "con = sqlite3.connect('cities_seasons.db')\n",
    "cur = con.cursor()\n",
    "country='India'\n",
    "cur.execute(\"SELECT * FROM Cities WHERE Country = ?\",(country,))\n",
    "cur.fetchall()"
   ]
  },
  {
   "cell_type": "code",
   "execution_count": 41,
   "id": "07d4da29",
   "metadata": {},
   "outputs": [
    {
     "data": {
      "text/plain": [
       "[('Mumbai', 'India', 'Fall', 27.6, 346.0),\n",
       " ('London', 'United Kingdom', 'Fall', 10.4, 218.5),\n",
       " ('Cairo', 'Egypt', 'Fall', 22.2, 4.5)]"
      ]
     },
     "execution_count": 41,
     "metadata": {},
     "output_type": "execute_result"
    }
   ],
   "source": [
    "#d) All the Fall records.\n",
    "con = sqlite3.connect('cities_seasons.db')\n",
    "cur = con.cursor()\n",
    "season='Fall'\n",
    "cur.execute(\"SELECT * FROM Cities WHERE Season = ?\",(season,))\n",
    "cur.fetchall()"
   ]
  },
  {
   "cell_type": "code",
   "execution_count": 48,
   "id": "504d6ca4",
   "metadata": {},
   "outputs": [
    {
     "data": {
      "text/plain": [
       "[('Mumbai', 'India', 'Fall'),\n",
       " ('London', 'United Kingdom', 'Winter'),\n",
       " ('London', 'United Kingdom', 'Fall')]"
      ]
     },
     "execution_count": 48,
     "metadata": {},
     "output_type": "execute_result"
    }
   ],
   "source": [
    "#e) The city, country, and season for which the average rainfall is between 200 and 400 millimeters.\n",
    "con = sqlite3.connect('cities_seasons.db')\n",
    "cur = con.cursor()\n",
    "cur.execute(\"SELECT City, Country, Season FROM Cities WHERE Rainfall BETWEEN 200 AND 400\")\n",
    "cur.fetchall()\n",
    "\n",
    "# WHERE AVG(Rainfall) BETWEEN 200 AND 400 "
   ]
  },
  {
   "cell_type": "code",
   "execution_count": 49,
   "id": "6eb83142",
   "metadata": {},
   "outputs": [
    {
     "data": {
      "text/plain": [
       "[('Cairo', 'Egypt'), ('Mumbai', 'India')]"
      ]
     },
     "execution_count": 49,
     "metadata": {},
     "output_type": "execute_result"
    }
   ],
   "source": [
    "#f) The city and country for which the average Fall temperature is above 20 degrees, in increasing temperature order.\n",
    "con = sqlite3.connect('cities_seasons.db')\n",
    "cur = con.cursor()\n",
    "season='Fall'\n",
    "cur.execute(\"SELECT City, Country FROM Cities WHERE Season = ? AND Temperature > 20 ORDER by Temperature ASC\",(season,))\n",
    "cur.fetchall()"
   ]
  },
  {
   "cell_type": "code",
   "execution_count": 51,
   "id": "9781f733",
   "metadata": {},
   "outputs": [
    {
     "data": {
      "text/plain": [
       "[('Cairo', 27.6)]"
      ]
     },
     "execution_count": 51,
     "metadata": {},
     "output_type": "execute_result"
    }
   ],
   "source": [
    "#g) The total annual rainfall for Cairo.\n",
    "con = sqlite3.connect('cities_seasons.db')\n",
    "cur = con.cursor()\n",
    "city='Cairo'\n",
    "cur.execute(\"SELECT City, SUM(Rainfall) FROM Cities WHERE City = ?\",(city,))\n",
    "cur.fetchall()"
   ]
  },
  {
   "cell_type": "code",
   "execution_count": 52,
   "id": "1cb3eba3",
   "metadata": {},
   "outputs": [
    {
     "data": {
      "text/plain": [
       "[('Fall', 569.0),\n",
       " ('Spring', 192.29999999999998),\n",
       " ('Summer', 1706.5),\n",
       " ('Winter', 230.1)]"
      ]
     },
     "execution_count": 52,
     "metadata": {},
     "output_type": "execute_result"
    }
   ],
   "source": [
    "#h) The total rainfall for each season.\n",
    "con = sqlite3.connect('cities_seasons.db')\n",
    "cur = con.cursor()\n",
    "cur.execute(\"SELECT Season, SUM(Rainfall) FROM Cities GROUP BY Season\")\n",
    "cur.fetchall()"
   ]
  },
  {
   "cell_type": "markdown",
   "id": "ff700045",
   "metadata": {},
   "source": [
    "## Question 9\n",
    ". Suppose list words is defined as follows:\n",
    "<p></p>\n",
    ">>> words = ['The', 'quick', 'brown', 'fox', 'jumps', 'over', 'the', 'lazy', 'dog']\n",
    "<p></p>\n",
    "Write list comprehension expressions that use list words and generate the following lists:\n",
    "<p></p>\n",
    "a) ['THE', 'QUICK', 'BROWN', 'FOX', 'JUMPS', 'OVER', 'THE', 'LAZY', 'DOG']\n",
    "<p></p>\n",
    "b) ['the', 'quick', 'brown', 'fox', 'jumps', 'over', 'the', 'lazy', 'dog']\n",
    "<p></p>\n",
    "c)[3, 5, 5, 3, 5, 4, 3, 4, 3](the list of lengths of words in list words).\n",
    "<p></p>\n",
    "d) [['THE', 'the', 3], ['QUICK', 'quick', 5], ['BROWN', 'brown', 5], ['FOX', 'fox', 3], ['JUMPS', 'jumps', 5], ['OVER', 'over', 4], ['THE', 'the', 3], ['LAZY', 'lazy', 4], ['DOG', 'dog', 3]] (the list containing a list for every word of list words, where each list contains the word in uppercase and lowercase and the length of the word.)\n",
    "<p></p>\n",
    "e) ['The', 'quick', 'brown', 'fox', 'jumps', 'over', 'the', 'lazy', 'dog'] (the list of words in list words containing 4 or more characters.)"
   ]
  },
  {
   "cell_type": "code",
   "execution_count": 1,
   "id": "1d4b9375",
   "metadata": {},
   "outputs": [
    {
     "name": "stdout",
     "output_type": "stream",
     "text": [
      "['THE', 'QUICK', 'BROWN', 'FOX', 'JUMPS', 'OVER', 'THE', 'LAZY', 'DOG']\n",
      "['the', 'quick', 'brown', 'fox', 'jumps', 'over', 'the', 'lazy', 'dog']\n",
      "[3, 5, 5, 3, 5, 4, 3, 4, 3]\n",
      "[['THE', 'the', 3], ['QUICK', 'quick', 5], ['BROWN', 'brown', 5], ['FOX', 'fox', 3], ['JUMPS', 'jumps', 5], ['OVER', 'over', 4], ['THE', 'the', 3], ['LAZY', 'lazy', 4], ['DOG', 'dog', 3]]\n",
      "['quick', 'brown', 'jumps', 'over', 'lazy']\n"
     ]
    }
   ],
   "source": [
    "words = ['The', 'quick', 'brown', 'fox', 'jumps', 'over', 'the', 'lazy', 'dog']\n",
    "\n",
    "alist=[word.upper() for word in words]\n",
    "print(alist)\n",
    "\n",
    "blist=[word.lower() for word in words]\n",
    "print(blist)\n",
    "\n",
    "clist=[len(word) for word in words]\n",
    "print(clist)\n",
    "\n",
    "dlist=[[word.upper(),word.lower(),len(word)] for word in words]\n",
    "print(dlist)\n",
    "\n",
    "elist=[word for word in words if len(word)>=4]\n",
    "print(elist)"
   ]
  },
  {
   "cell_type": "code",
   "execution_count": null,
   "id": "ce781761",
   "metadata": {},
   "outputs": [],
   "source": []
  }
 ],
 "metadata": {
  "kernelspec": {
   "display_name": "Python 3 (ipykernel)",
   "language": "python",
   "name": "python3"
  },
  "language_info": {
   "codemirror_mode": {
    "name": "ipython",
    "version": 3
   },
   "file_extension": ".py",
   "mimetype": "text/x-python",
   "name": "python",
   "nbconvert_exporter": "python",
   "pygments_lexer": "ipython3",
   "version": "3.10.9"
  }
 },
 "nbformat": 4,
 "nbformat_minor": 5
}
